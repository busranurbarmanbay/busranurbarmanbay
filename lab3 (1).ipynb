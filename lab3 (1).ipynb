{
 "cells": [
  {
   "cell_type": "code",
   "execution_count": 44,
   "id": "410c2e01",
   "metadata": {},
   "outputs": [],
   "source": [
    "import pandas as pd\n",
    "import numpy as np"
   ]
  },
  {
   "cell_type": "code",
   "execution_count": 45,
   "id": "29bfc16b",
   "metadata": {},
   "outputs": [
    {
     "data": {
      "text/html": [
       "<div>\n",
       "<style scoped>\n",
       "    .dataframe tbody tr th:only-of-type {\n",
       "        vertical-align: middle;\n",
       "    }\n",
       "\n",
       "    .dataframe tbody tr th {\n",
       "        vertical-align: top;\n",
       "    }\n",
       "\n",
       "    .dataframe thead th {\n",
       "        text-align: right;\n",
       "    }\n",
       "</style>\n",
       "<table border=\"1\" class=\"dataframe\">\n",
       "  <thead>\n",
       "    <tr style=\"text-align: right;\">\n",
       "      <th></th>\n",
       "      <th>Company \\n(Maker-if known)</th>\n",
       "      <th>Specific Bean Origin\\nor Bar Name</th>\n",
       "      <th>REF</th>\n",
       "      <th>Review\\nDate</th>\n",
       "      <th>Cocoa\\nPercent</th>\n",
       "      <th>Company\\nLocation</th>\n",
       "      <th>Rating</th>\n",
       "      <th>Bean\\nType</th>\n",
       "      <th>Broad Bean\\nOrigin</th>\n",
       "    </tr>\n",
       "  </thead>\n",
       "  <tbody>\n",
       "    <tr>\n",
       "      <th>0</th>\n",
       "      <td>A. Morin</td>\n",
       "      <td>Agua Grande</td>\n",
       "      <td>1876</td>\n",
       "      <td>2016</td>\n",
       "      <td>63%</td>\n",
       "      <td>France</td>\n",
       "      <td>3.75</td>\n",
       "      <td></td>\n",
       "      <td>Sao Tome</td>\n",
       "    </tr>\n",
       "    <tr>\n",
       "      <th>1</th>\n",
       "      <td>A. Morin</td>\n",
       "      <td>Kpime</td>\n",
       "      <td>1676</td>\n",
       "      <td>2015</td>\n",
       "      <td>70%</td>\n",
       "      <td>France</td>\n",
       "      <td>2.75</td>\n",
       "      <td></td>\n",
       "      <td>Togo</td>\n",
       "    </tr>\n",
       "    <tr>\n",
       "      <th>2</th>\n",
       "      <td>A. Morin</td>\n",
       "      <td>Atsane</td>\n",
       "      <td>1676</td>\n",
       "      <td>2015</td>\n",
       "      <td>70%</td>\n",
       "      <td>France</td>\n",
       "      <td>3.00</td>\n",
       "      <td></td>\n",
       "      <td>Togo</td>\n",
       "    </tr>\n",
       "    <tr>\n",
       "      <th>3</th>\n",
       "      <td>A. Morin</td>\n",
       "      <td>Akata</td>\n",
       "      <td>1680</td>\n",
       "      <td>2015</td>\n",
       "      <td>70%</td>\n",
       "      <td>France</td>\n",
       "      <td>3.50</td>\n",
       "      <td></td>\n",
       "      <td>Togo</td>\n",
       "    </tr>\n",
       "    <tr>\n",
       "      <th>4</th>\n",
       "      <td>A. Morin</td>\n",
       "      <td>Quilla</td>\n",
       "      <td>1704</td>\n",
       "      <td>2015</td>\n",
       "      <td>70%</td>\n",
       "      <td>France</td>\n",
       "      <td>3.50</td>\n",
       "      <td></td>\n",
       "      <td>Peru</td>\n",
       "    </tr>\n",
       "    <tr>\n",
       "      <th>...</th>\n",
       "      <td>...</td>\n",
       "      <td>...</td>\n",
       "      <td>...</td>\n",
       "      <td>...</td>\n",
       "      <td>...</td>\n",
       "      <td>...</td>\n",
       "      <td>...</td>\n",
       "      <td>...</td>\n",
       "      <td>...</td>\n",
       "    </tr>\n",
       "    <tr>\n",
       "      <th>1790</th>\n",
       "      <td>Zotter</td>\n",
       "      <td>Peru</td>\n",
       "      <td>647</td>\n",
       "      <td>2011</td>\n",
       "      <td>70%</td>\n",
       "      <td>Austria</td>\n",
       "      <td>3.75</td>\n",
       "      <td></td>\n",
       "      <td>Peru</td>\n",
       "    </tr>\n",
       "    <tr>\n",
       "      <th>1791</th>\n",
       "      <td>Zotter</td>\n",
       "      <td>Congo</td>\n",
       "      <td>749</td>\n",
       "      <td>2011</td>\n",
       "      <td>65%</td>\n",
       "      <td>Austria</td>\n",
       "      <td>3.00</td>\n",
       "      <td>Forastero</td>\n",
       "      <td>Congo</td>\n",
       "    </tr>\n",
       "    <tr>\n",
       "      <th>1792</th>\n",
       "      <td>Zotter</td>\n",
       "      <td>Kerala State</td>\n",
       "      <td>749</td>\n",
       "      <td>2011</td>\n",
       "      <td>65%</td>\n",
       "      <td>Austria</td>\n",
       "      <td>3.50</td>\n",
       "      <td>Forastero</td>\n",
       "      <td>India</td>\n",
       "    </tr>\n",
       "    <tr>\n",
       "      <th>1793</th>\n",
       "      <td>Zotter</td>\n",
       "      <td>Kerala State</td>\n",
       "      <td>781</td>\n",
       "      <td>2011</td>\n",
       "      <td>62%</td>\n",
       "      <td>Austria</td>\n",
       "      <td>3.25</td>\n",
       "      <td></td>\n",
       "      <td>India</td>\n",
       "    </tr>\n",
       "    <tr>\n",
       "      <th>1794</th>\n",
       "      <td>Zotter</td>\n",
       "      <td>Brazil, Mitzi Blue</td>\n",
       "      <td>486</td>\n",
       "      <td>2010</td>\n",
       "      <td>65%</td>\n",
       "      <td>Austria</td>\n",
       "      <td>3.00</td>\n",
       "      <td></td>\n",
       "      <td>Brazil</td>\n",
       "    </tr>\n",
       "  </tbody>\n",
       "</table>\n",
       "<p>1795 rows × 9 columns</p>\n",
       "</div>"
      ],
      "text/plain": [
       "     Company \\n(Maker-if known) Specific Bean Origin\\nor Bar Name   REF  \\\n",
       "0                      A. Morin                       Agua Grande  1876   \n",
       "1                      A. Morin                             Kpime  1676   \n",
       "2                      A. Morin                            Atsane  1676   \n",
       "3                      A. Morin                             Akata  1680   \n",
       "4                      A. Morin                            Quilla  1704   \n",
       "...                         ...                               ...   ...   \n",
       "1790                     Zotter                              Peru   647   \n",
       "1791                     Zotter                             Congo   749   \n",
       "1792                     Zotter                      Kerala State   749   \n",
       "1793                     Zotter                      Kerala State   781   \n",
       "1794                     Zotter                Brazil, Mitzi Blue   486   \n",
       "\n",
       "      Review\\nDate Cocoa\\nPercent Company\\nLocation  Rating Bean\\nType  \\\n",
       "0             2016            63%            France    3.75              \n",
       "1             2015            70%            France    2.75              \n",
       "2             2015            70%            France    3.00              \n",
       "3             2015            70%            France    3.50              \n",
       "4             2015            70%            France    3.50              \n",
       "...            ...            ...               ...     ...        ...   \n",
       "1790          2011            70%           Austria    3.75              \n",
       "1791          2011            65%           Austria    3.00  Forastero   \n",
       "1792          2011            65%           Austria    3.50  Forastero   \n",
       "1793          2011            62%           Austria    3.25              \n",
       "1794          2010            65%           Austria    3.00              \n",
       "\n",
       "     Broad Bean\\nOrigin  \n",
       "0              Sao Tome  \n",
       "1                  Togo  \n",
       "2                  Togo  \n",
       "3                  Togo  \n",
       "4                  Peru  \n",
       "...                 ...  \n",
       "1790               Peru  \n",
       "1791              Congo  \n",
       "1792              India  \n",
       "1793              India  \n",
       "1794             Brazil  \n",
       "\n",
       "[1795 rows x 9 columns]"
      ]
     },
     "execution_count": 45,
     "metadata": {},
     "output_type": "execute_result"
    }
   ],
   "source": [
    "cacao = pd.read_csv(\"C:/Users/busra/OneDrive/Masaüstü/Yapay zeka/bulut bilişim/flavors_of_cacao.csv\")\n",
    "cacao"
   ]
  },
  {
   "cell_type": "code",
   "execution_count": 46,
   "id": "1ca872d1",
   "metadata": {},
   "outputs": [
    {
     "name": "stdout",
     "output_type": "stream",
     "text": [
      "3.185933147632312\n"
     ]
    }
   ],
   "source": [
    "a=cacao['Rating'].mean()\n",
    "print(a)"
   ]
  },
  {
   "cell_type": "code",
   "execution_count": 47,
   "id": "d2c15cc9",
   "metadata": {},
   "outputs": [
    {
     "name": "stdout",
     "output_type": "stream",
     "text": [
      "3.25\n"
     ]
    }
   ],
   "source": [
    "b=cacao['Rating'].median()\n",
    "print(b)"
   ]
  },
  {
   "cell_type": "code",
   "execution_count": 48,
   "id": "8aace24c",
   "metadata": {},
   "outputs": [
    {
     "name": "stdout",
     "output_type": "stream",
     "text": [
      "3.5\n"
     ]
    }
   ],
   "source": [
    "c=float(cacao['Rating'].mode().iloc[0])\n",
    "print(c)"
   ]
  },
  {
   "cell_type": "code",
   "execution_count": 49,
   "id": "aae3875f",
   "metadata": {},
   "outputs": [
    {
     "data": {
      "image/png": "[encoded data removed]",
      "text/plain": [
       "<Figure size 1000x800 with 1 Axes>"
      ]
     },
     "metadata": {},
     "output_type": "display_data"
    }
   ],
   "source": [
    "import matplotlib.pyplot as plt\n",
    "cacao['Rating'].plot(kind='hist', figsize=(10, 8), linewidth=2, color='lightgray', \n",
    "                     edgecolor='gray')\n",
    "plt.xlabel(\"rating\", labelpad=15)\n",
    "plt.ylabel(\"frequency\", labelpad=15)\n",
    "plt.title(\"Distribution of Ratings\", y=1.012, fontsize=22)\n",
    "measurements = [a, b,c]\n",
    "names = [\"mean\", \"median\", \"mode\"]\n",
    "colors = ['green', 'blue', 'orange']\n",
    "for measurement, name, color in zip(measurements, names, colors):\n",
    "    plt.axvline(x=measurement, linestyle='--',\n",
    "                linewidth=2.5, label='{0} at {1}' .format(name, measurement), c=color)\n",
    "plt.legend();"
   ]
  },
  {
   "cell_type": "code",
   "execution_count": 50,
   "id": "0feeedc0",
   "metadata": {},
   "outputs": [
    {
     "name": "stdout",
     "output_type": "stream",
     "text": [
      "0.06323118338429187\n"
     ]
    }
   ],
   "source": [
    "cacao['Cocoa\\nPercent'] = cacao['Cocoa\\nPercent'].str.rstrip('%').astype('float') / 100.0\n",
    "print(cacao['Cocoa\\nPercent'].std())"
   ]
  },
  {
   "cell_type": "code",
   "execution_count": 51,
   "id": "686160a4",
   "metadata": {},
   "outputs": [
    {
     "name": "stdout",
     "output_type": "stream",
     "text": [
      "0.7169832869080781\n",
      "0.003998182552177948\n"
     ]
    }
   ],
   "source": [
    "print(cacao['Cocoa\\nPercent'].mean())\n",
    "print(cacao['Cocoa\\nPercent'].var())"
   ]
  },
  {
   "cell_type": "code",
   "execution_count": 90,
   "id": "64b99ec3",
   "metadata": {},
   "outputs": [
    {
     "name": "stdout",
     "output_type": "stream",
     "text": [
      "['France' 'U.S.A.' 'Fiji' 'Ecuador' 'Mexico' 'Switzerland' 'Netherlands'\n",
      " 'Spain' 'Peru' 'Canada' 'Italy' 'Brazil' 'U.K.' 'Australia' 'Wales'\n",
      " 'Belgium' 'Germany' 'Russia' 'Puerto Rico' 'Venezuela' 'Colombia' 'Japan'\n",
      " 'New Zealand' 'Costa Rica' 'South Korea' 'Amsterdam' 'Scotland'\n",
      " 'Martinique' 'Sao Tome' 'Argentina' 'Guatemala' 'South Africa' 'Bolivia'\n",
      " 'St. Lucia' 'Portugal' 'Singapore' 'Denmark' 'Vietnam' 'Grenada' 'Israel'\n",
      " 'India' 'Czech Republic' 'Domincan Republic' 'Finland' 'Madagascar'\n",
      " 'Philippines' 'Sweden' 'Poland' 'Austria' 'Honduras' 'Nicaragua'\n",
      " 'Lithuania' 'Niacragua' 'Chile' 'Ghana' 'Iceland' 'Eucador' 'Hungary'\n",
      " 'Suriname' 'Ireland']\n"
     ]
    }
   ],
   "source": [
    "print(cacao['Company\\nLocation'].unique())"
   ]
  },
  {
   "cell_type": "code",
   "execution_count": 53,
   "id": "46c6aef9",
   "metadata": {},
   "outputs": [
    {
     "data": {
      "image/png": "[encoded data removed]",
      "text/plain": [
       "<Figure size 640x480 with 1 Axes>"
      ]
     },
     "metadata": {},
     "output_type": "display_data"
    }
   ],
   "source": [
    "import seaborn as sns\n",
    "cacao2=cacao[(cacao['Company\\nLocation']=='U.S.A.')|(cacao['Company\\nLocation']=='Switzerland')|\n",
    "             (cacao['Company\\nLocation']=='Brazil')|(cacao['Company\\nLocation']=='Germany')]\n",
    "ax=sns.boxplot(x='Company\\nLocation', y='Cocoa\\nPercent',data=cacao2)"
   ]
  },
  {
   "cell_type": "code",
   "execution_count": 54,
   "id": "25aa2947",
   "metadata": {},
   "outputs": [
    {
     "name": "stdout",
     "output_type": "stream",
     "text": [
      "3.185933147632312\n"
     ]
    }
   ],
   "source": [
    "print(cacao['Rating'].mean())"
   ]
  },
  {
   "cell_type": "code",
   "execution_count": 60,
   "id": "2998774e",
   "metadata": {},
   "outputs": [
    {
     "name": "stdout",
     "output_type": "stream",
     "text": [
      "[2.5, 3.25, 3.75, 3.25, 2.75, 4.0, 2.75, 2.0, 3.0, 2.75, 3.5, 3.0, 2.75, 3.0, 4.0, 3.5, 2.5, 3.5, 2.75, 3.5, 3.0, 2.75, 3.75, 3.25, 3.0, 3.25, 3.5, 3.75, 3.5, 3.0, 3.5, 3.0, 3.5, 3.5, 3.0, 3.75, 3.0, 4.0, 3.25, 3.25, 2.75, 3.5, 2.75, 3.0, 2.75, 3.0, 3.5, 2.25, 4.0, 3.0, 3.75, 3.5, 2.75, 3.5, 3.0, 4.0, 2.5, 3.75, 2.5, 3.75, 2.75, 2.75, 3.5, 2.5, 3.25, 3.5, 2.75, 3.0, 3.75, 3.0, 3.0, 3.25, 3.0, 3.5, 2.75, 3.5, 3.0, 3.25, 2.5, 2.0, 3.5, 3.0, 3.25, 2.75, 3.5, 4.0, 2.75, 3.5, 2.5, 2.5, 2.75, 3.5, 3.0, 3.75, 3.75, 2.75, 3.5, 3.5, 3.0, 2.5, 2.75, 3.25, 2.75, 2.75, 2.75, 3.25, 2.5, 3.5, 3.25, 2.75, 3.25, 3.5, 3.5, 3.5, 3.25, 2.5, 3.0, 2.5, 3.0, 2.0, 1.5, 3.0, 3.0, 3.0, 2.75, 3.0, 4.0, 2.5, 3.0, 3.5, 3.25, 3.0, 2.75, 2.75, 2.75, 1.0, 3.75, 3.25, 3.0, 3.25, 3.5, 3.25, 3.25, 3.75, 2.75, 3.25, 2.75, 2.75, 3.75, 3.5, 3.0, 3.25, 2.75, 3.5, 2.5, 2.0, 2.5, 3.0, 3.5, 3.0, 2.75, 2.75, 3.25, 3.5, 3.0, 3.5, 2.75, 3.25, 1.5, 3.5, 3.75, 3.25, 4.0, 3.25, 2.5, 3.0, 2.75, 3.5, 3.75, 3.75, 3.25, 3.5, 3.5, 3.75, 3.25, 2.0, 2.75, 3.0, 3.25, 4.0, 2.75, 2.75, 3.75, 3.75, 3.5, 2.5, 3.0, 2.75, 3.0, 3.5, 2.75, 3.0, 2.5, 3.25, 3.25, 3.5, 2.5, 2.5, 3.5, 3.5, 3.75, 3.5, 3.25, 2.75, 3.25, 3.5, 3.75, 2.75, 3.0, 3.0, 3.25, 3.75, 2.75, 3.25, 2.0, 2.75, 3.0, 2.75, 2.5, 2.75, 3.75, 3.5, 4.0, 3.0, 4.0, 3.5, 3.75, 3.0, 3.75, 3.5, 3.75, 3.25, 3.0, 2.75, 3.75, 2.75, 3.0, 2.5, 3.25, 3.25, 3.5, 3.5, 2.5, 4.0, 3.0, 3.75, 3.75, 3.25, 3.5, 3.0, 3.25, 2.75, 2.75, 3.0, 2.75, 3.75, 2.5, 3.25, 3.0, 3.25, 2.75, 2.5, 2.75, 3.0, 3.25, 3.75, 3.5, 3.0, 2.0, 3.5, 3.0, 3.25, 3.5, 3.25, 3.0, 3.0, 3.0, 3.75, 3.75, 3.5, 3.0, 3.75, 4.0, 3.75, 4.0, 3.75, 3.0, 3.0, 3.5, 3.5, 3.25, 3.5, 3.25, 4.0, 4.0, 3.5, 3.5, 2.5, 3.5, 3.25, 3.5, 2.75, 2.5, 2.75, 4.0, 3.5, 3.5]\n"
     ]
    }
   ],
   "source": [
    "from random import sample\n",
    "\n",
    "ratings_to_list = list(cacao['Rating'])\n",
    "sample_list = sample(ratings_to_list, 317)\n",
    "print(sample_list)\n"
   ]
  },
  {
   "cell_type": "code",
   "execution_count": 61,
   "id": "5364cfe8",
   "metadata": {},
   "outputs": [
    {
     "name": "stdout",
     "output_type": "stream",
     "text": [
      "3.1514195583596214\n"
     ]
    }
   ],
   "source": [
    "def mean_function_list(list):\n",
    "    sum=0\n",
    "    for i in range(len(list)):\n",
    "        sum+=list[i]\n",
    "    mean=sum/len(list)\n",
    "    print(mean)\n",
    "mean_function_list(sample_list)"
   ]
  },
  {
   "cell_type": "code",
   "execution_count": 65,
   "id": "dd39b45d",
   "metadata": {},
   "outputs": [
    {
     "name": "stdout",
     "output_type": "stream",
     "text": [
      "     Company \\n(Maker-if known) Specific Bean Origin\\nor Bar Name   REF  \\\n",
      "0                      A. Morin                       Agua Grande  1876   \n",
      "5                      A. Morin                          Carenero  1315   \n",
      "10                     A. Morin                            Panama  1011   \n",
      "15                     A. Morin                          Birmanie  1015   \n",
      "20                     A. Morin              Chanchamayo Province  1019   \n",
      "...                         ...                               ...   ...   \n",
      "1770              Zart Pralinen    Kakao Kamili, Kilombero Valley  1824   \n",
      "1775                     Zokoko                         Alto Beni   697   \n",
      "1780                     Zotter                   Amazonas Frucht   801   \n",
      "1785                     Zotter                      Huiwani Coop   879   \n",
      "1790                     Zotter                              Peru   647   \n",
      "\n",
      "      Review\\nDate  Cocoa\\nPercent Company\\nLocation  Rating  \\\n",
      "0             2016            0.63            France    3.75   \n",
      "5             2014            0.70            France    2.75   \n",
      "10            2013            0.70            France    2.75   \n",
      "15            2013            0.70            France    3.00   \n",
      "20            2013            0.63            France    4.00   \n",
      "...            ...             ...               ...     ...   \n",
      "1770          2016            0.85           Austria    3.00   \n",
      "1775          2011            0.68         Australia    3.50   \n",
      "1780          2012            0.65           Austria    3.50   \n",
      "1785          2012            0.75           Austria    3.00   \n",
      "1790          2011            0.70           Austria    3.75   \n",
      "\n",
      "               Bean\\nType Broad Bean\\nOrigin  \n",
      "0                                   Sao Tome  \n",
      "5                 Criollo          Venezuela  \n",
      "10                                    Panama  \n",
      "15                                     Burma  \n",
      "20                                      Peru  \n",
      "...                   ...                ...  \n",
      "1770  Criollo, Trinitario           Tanzania  \n",
      "1775                                 Bolivia  \n",
      "1780                                          \n",
      "1785  Criollo, Trinitario   Papua New Guinea  \n",
      "1790                                    Peru  \n",
      "\n",
      "[359 rows x 9 columns]\n"
     ]
    }
   ],
   "source": [
    "def systematic_sampling(df, step):\n",
    "    \n",
    "    indexes = np.arange(0,len(df),step=step)\n",
    "    systematic_sample = df.iloc[indexes]\n",
    "    return(systematic_sample)\n",
    "\n",
    "systematic_sample = systematic_sampling(cacao,5)\n",
    "\n",
    "print(systematic_sample)\n"
   ]
  },
  {
   "cell_type": "code",
   "execution_count": 66,
   "id": "52e5f600",
   "metadata": {},
   "outputs": [
    {
     "name": "stdout",
     "output_type": "stream",
     "text": [
      "3.176183844011142\n"
     ]
    }
   ],
   "source": [
    "print(systematic_sample['Rating'].mean())"
   ]
  },
  {
   "cell_type": "code",
   "execution_count": 87,
   "id": "e3c2407d",
   "metadata": {},
   "outputs": [
    {
     "name": "stdout",
     "output_type": "stream",
     "text": [
      "The population cannot be divided into clusters of equal size!\n"
     ]
    }
   ],
   "source": [
    "def cluster_sampling(df, number_of_clusters):\n",
    "\n",
    "\n",
    "    try:\n",
    "        df['cluster_id'] = np.repeat([range(1,number_of_cluster+1)], len(df)/number_of_clusters)\n",
    "        \n",
    "        indexes = []\n",
    "        \n",
    "        for i in range(0,len(df)):\n",
    "            if df['cluster_id'].iloc[i]%2 == 0:\n",
    "                indexes.append(i)\n",
    "            cluster_sample = df.iloc[indexes]\n",
    "            return(cluster_sample)\n",
    "       \n",
    "    except:\n",
    "        print(\"The population cannot be divided into clusters of equal size!\")\n",
    "\n",
    "      \n",
    "cluster_sample = cluster_sampling(cacao,5)"
   ]
  },
  {
   "cell_type": "code",
   "execution_count": 85,
   "id": "92cf07fd",
   "metadata": {
    "scrolled": true
   },
   "outputs": [
    {
     "ename": "TypeError",
     "evalue": "'NoneType' object is not subscriptable",
     "output_type": "error",
     "traceback": [
      "\u001b[1;31m---------------------------------------------------------------------------\u001b[0m",
      "\u001b[1;31mTypeError\u001b[0m                                 Traceback (most recent call last)",
      "Cell \u001b[1;32mIn[85], line 1\u001b[0m\n\u001b[1;32m----> 1\u001b[0m \u001b[38;5;28mprint\u001b[39m(cluster_sample[\u001b[38;5;124m'\u001b[39m\u001b[38;5;124mRating\u001b[39m\u001b[38;5;124m'\u001b[39m]\u001b[38;5;241m.\u001b[39mmean())\n\u001b[0;32m      2\u001b[0m cluster_sample\n",
      "\u001b[1;31mTypeError\u001b[0m: 'NoneType' object is not subscriptable"
     ]
    }
   ],
   "source": [
    "print(cluster_sample['Rating'].mean())\n",
    "cluster_sample"
   ]
  },
  {
   "cell_type": "code",
   "execution_count": 78,
   "id": "ad2cc0c1",
   "metadata": {},
   "outputs": [
    {
     "data": {
      "text/html": [
       "<div>\n",
       "<style scoped>\n",
       "    .dataframe tbody tr th:only-of-type {\n",
       "        vertical-align: middle;\n",
       "    }\n",
       "\n",
       "    .dataframe tbody tr th {\n",
       "        vertical-align: top;\n",
       "    }\n",
       "\n",
       "    .dataframe thead th {\n",
       "        text-align: right;\n",
       "    }\n",
       "</style>\n",
       "<table border=\"1\" class=\"dataframe\">\n",
       "  <thead>\n",
       "    <tr style=\"text-align: right;\">\n",
       "      <th></th>\n",
       "      <th>REF</th>\n",
       "      <th>Review\\nDate</th>\n",
       "      <th>Cocoa\\nPercent</th>\n",
       "      <th>Rating</th>\n",
       "      <th>cluster_id</th>\n",
       "    </tr>\n",
       "  </thead>\n",
       "  <tbody>\n",
       "    <tr>\n",
       "      <th>count</th>\n",
       "      <td>1795.000000</td>\n",
       "      <td>1795.000000</td>\n",
       "      <td>1795.000000</td>\n",
       "      <td>1795.000000</td>\n",
       "      <td>1795.000000</td>\n",
       "    </tr>\n",
       "    <tr>\n",
       "      <th>mean</th>\n",
       "      <td>1035.904735</td>\n",
       "      <td>2012.325348</td>\n",
       "      <td>0.716983</td>\n",
       "      <td>3.185933</td>\n",
       "      <td>3.000000</td>\n",
       "    </tr>\n",
       "    <tr>\n",
       "      <th>std</th>\n",
       "      <td>552.886365</td>\n",
       "      <td>2.927210</td>\n",
       "      <td>0.063231</td>\n",
       "      <td>0.478062</td>\n",
       "      <td>1.414608</td>\n",
       "    </tr>\n",
       "    <tr>\n",
       "      <th>min</th>\n",
       "      <td>5.000000</td>\n",
       "      <td>2006.000000</td>\n",
       "      <td>0.420000</td>\n",
       "      <td>1.000000</td>\n",
       "      <td>1.000000</td>\n",
       "    </tr>\n",
       "    <tr>\n",
       "      <th>25%</th>\n",
       "      <td>576.000000</td>\n",
       "      <td>2010.000000</td>\n",
       "      <td>0.700000</td>\n",
       "      <td>2.875000</td>\n",
       "      <td>2.000000</td>\n",
       "    </tr>\n",
       "    <tr>\n",
       "      <th>50%</th>\n",
       "      <td>1069.000000</td>\n",
       "      <td>2013.000000</td>\n",
       "      <td>0.700000</td>\n",
       "      <td>3.250000</td>\n",
       "      <td>3.000000</td>\n",
       "    </tr>\n",
       "    <tr>\n",
       "      <th>75%</th>\n",
       "      <td>1502.000000</td>\n",
       "      <td>2015.000000</td>\n",
       "      <td>0.750000</td>\n",
       "      <td>3.500000</td>\n",
       "      <td>4.000000</td>\n",
       "    </tr>\n",
       "    <tr>\n",
       "      <th>max</th>\n",
       "      <td>1952.000000</td>\n",
       "      <td>2017.000000</td>\n",
       "      <td>1.000000</td>\n",
       "      <td>5.000000</td>\n",
       "      <td>5.000000</td>\n",
       "    </tr>\n",
       "  </tbody>\n",
       "</table>\n",
       "</div>"
      ],
      "text/plain": [
       "               REF  Review\\nDate  Cocoa\\nPercent       Rating   cluster_id\n",
       "count  1795.000000   1795.000000     1795.000000  1795.000000  1795.000000\n",
       "mean   1035.904735   2012.325348        0.716983     3.185933     3.000000\n",
       "std     552.886365      2.927210        0.063231     0.478062     1.414608\n",
       "min       5.000000   2006.000000        0.420000     1.000000     1.000000\n",
       "25%     576.000000   2010.000000        0.700000     2.875000     2.000000\n",
       "50%    1069.000000   2013.000000        0.700000     3.250000     3.000000\n",
       "75%    1502.000000   2015.000000        0.750000     3.500000     4.000000\n",
       "max    1952.000000   2017.000000        1.000000     5.000000     5.000000"
      ]
     },
     "execution_count": 78,
     "metadata": {},
     "output_type": "execute_result"
    }
   ],
   "source": [
    "cacao.describe()"
   ]
  },
  {
   "cell_type": "code",
   "execution_count": 79,
   "id": "587b0358",
   "metadata": {},
   "outputs": [],
   "source": [
    "cacao.loc[(cacao['Rating']>0)&(cacao['Rating']<2.875),'RatingPercent']=0\n",
    "cacao.loc[(cacao['Rating']>2.875)&(cacao['Rating']<=3.250),'RatingPercent']=1\n",
    "cacao.loc[(cacao['Rating']>3.250)&(cacao['Rating']<=3.5),'RatingPercent']=2\n",
    "cacao.loc[(cacao['Rating']>3.5)&(cacao['Rating']<=5.0),'RatingPercent']=3"
   ]
  },
  {
   "cell_type": "code",
   "execution_count": 80,
   "id": "bf37feb4",
   "metadata": {},
   "outputs": [
    {
     "data": {
      "text/plain": [
       "RatingPercent\n",
       "1.0    35.877437\n",
       "0.0    25.013928\n",
       "2.0    21.838440\n",
       "3.0    17.270195\n",
       "Name: count, dtype: float64"
      ]
     },
     "execution_count": 80,
     "metadata": {},
     "output_type": "execute_result"
    }
   ],
   "source": [
    "(cacao['RatingPercent'].value_counts()) / len(cacao) * 100"
   ]
  },
  {
   "cell_type": "code",
   "execution_count": 82,
   "id": "17b5f06e",
   "metadata": {},
   "outputs": [
    {
     "data": {
      "text/plain": [
       "RatingPercent\n",
       "1.0    64\n",
       "0.0    45\n",
       "2.0    39\n",
       "3.0    31\n",
       "Name: count, dtype: int64"
      ]
     },
     "execution_count": 82,
     "metadata": {},
     "output_type": "execute_result"
    }
   ],
   "source": [
    "cacao2=cacao.groupby('RatingPercent', group_keys=False).apply(lambda x: x.sample(frac=0.1))\n",
    "cacao2['RatingPercent'].value_counts()"
   ]
  }
 ],
 "metadata": {
  "kernelspec": {
   "display_name": "Python 3 (ipykernel)",
   "language": "python",
   "name": "python3"
  },
  "language_info": {
   "codemirror_mode": {
    "name": "ipython",
    "version": 3
   },
   "file_extension": ".py",
   "mimetype": "text/x-python",
   "name": "python",
   "nbconvert_exporter": "python",
   "pygments_lexer": "ipython3",
   "version": "3.11.5"
  }
 },
 "nbformat": 4,
 "nbformat_minor": 5
}
