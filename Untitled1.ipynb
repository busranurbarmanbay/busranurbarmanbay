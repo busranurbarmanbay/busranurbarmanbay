{
 "cells": [
  {
   "cell_type": "code",
   "execution_count": 1,
   "id": "427ee1f6",
   "metadata": {},
   "outputs": [
    {
     "name": "stdout",
     "output_type": "stream",
     "text": [
      "4\n"
     ]
    }
   ],
   "source": [
    "A=4\n",
    "print(A)"
   ]
  },
  {
   "cell_type": "code",
   "execution_count": 4,
   "id": "ef6d26dc",
   "metadata": {},
   "outputs": [
    {
     "name": "stdout",
     "output_type": "stream",
     "text": [
      "4\n",
      "3\n"
     ]
    }
   ],
   "source": [
    "A=3\n",
    "B=4\n",
    "C=A\n",
    "A=B\n",
    "B=C\n",
    "print(A)\n",
    "print(B)"
   ]
  },
  {
   "cell_type": "code",
   "execution_count": 8,
   "id": "54be9ce5",
   "metadata": {},
   "outputs": [
    {
     "name": "stdout",
     "output_type": "stream",
     "text": [
      "4\n",
      "3\n"
     ]
    }
   ],
   "source": [
    "A=3\n",
    "B=4\n",
    "A,B=B,A\n",
    "print(A)\n",
    "print(B)"
   ]
  },
  {
   "cell_type": "code",
   "execution_count": 13,
   "id": "18422505",
   "metadata": {},
   "outputs": [
    {
     "name": "stdout",
     "output_type": "stream",
     "text": [
      "AKADEMİ\n",
      "BTK\n",
      "AKADEMİ BTK\n",
      "BTK AKADEMİ\n"
     ]
    }
   ],
   "source": [
    "K='BTK'\n",
    "Y='AKADEMİ'\n",
    "K,Y=Y,K\n",
    "print(K)\n",
    "print(Y)\n",
    "print(K,Y)\n",
    "print(Y,K)"
   ]
  },
  {
   "cell_type": "code",
   "execution_count": 14,
   "id": "14eba98a",
   "metadata": {},
   "outputs": [
    {
     "name": "stdout",
     "output_type": "stream",
     "text": [
      "80\n"
     ]
    }
   ],
   "source": [
    "A=45\n",
    "B=35\n",
    "Toplam=A+B\n",
    "print(Toplam)"
   ]
  },
  {
   "cell_type": "code",
   "execution_count": 15,
   "id": "4c824420",
   "metadata": {},
   "outputs": [
    {
     "data": {
      "text/plain": [
       "8"
      ]
     },
     "execution_count": 15,
     "metadata": {},
     "output_type": "execute_result"
    }
   ],
   "source": [
    "3+5"
   ]
  },
  {
   "cell_type": "code",
   "execution_count": 16,
   "id": "c25fc9e1",
   "metadata": {},
   "outputs": [
    {
     "data": {
      "text/plain": [
       "11"
      ]
     },
     "execution_count": 16,
     "metadata": {},
     "output_type": "execute_result"
    }
   ],
   "source": [
    "17-6"
   ]
  },
  {
   "cell_type": "code",
   "execution_count": 17,
   "id": "f2572429",
   "metadata": {},
   "outputs": [
    {
     "data": {
      "text/plain": [
       "20"
      ]
     },
     "execution_count": 17,
     "metadata": {},
     "output_type": "execute_result"
    }
   ],
   "source": [
    "5*4"
   ]
  },
  {
   "cell_type": "code",
   "execution_count": 19,
   "id": "7eed40e6",
   "metadata": {},
   "outputs": [
    {
     "data": {
      "text/plain": [
       "5.0"
      ]
     },
     "execution_count": 19,
     "metadata": {},
     "output_type": "execute_result"
    }
   ],
   "source": [
    "25/5"
   ]
  },
  {
   "cell_type": "code",
   "execution_count": 20,
   "id": "be008573",
   "metadata": {},
   "outputs": [
    {
     "data": {
      "text/plain": [
       "6.8"
      ]
     },
     "execution_count": 20,
     "metadata": {},
     "output_type": "execute_result"
    }
   ],
   "source": [
    "34/5"
   ]
  },
  {
   "cell_type": "code",
   "execution_count": 21,
   "id": "33f9bca7",
   "metadata": {},
   "outputs": [
    {
     "data": {
      "text/plain": [
       "6"
      ]
     },
     "execution_count": 21,
     "metadata": {},
     "output_type": "execute_result"
    }
   ],
   "source": [
    "34//5"
   ]
  },
  {
   "cell_type": "code",
   "execution_count": 23,
   "id": "6573eb55",
   "metadata": {},
   "outputs": [
    {
     "data": {
      "text/plain": [
       "216"
      ]
     },
     "execution_count": 23,
     "metadata": {},
     "output_type": "execute_result"
    }
   ],
   "source": [
    "6**3"
   ]
  },
  {
   "cell_type": "code",
   "execution_count": 24,
   "id": "23462977",
   "metadata": {},
   "outputs": [
    {
     "data": {
      "text/plain": [
       "4"
      ]
     },
     "execution_count": 24,
     "metadata": {},
     "output_type": "execute_result"
    }
   ],
   "source": [
    "34%5"
   ]
  },
  {
   "cell_type": "code",
   "execution_count": 25,
   "id": "b2bcdd9e",
   "metadata": {},
   "outputs": [
    {
     "data": {
      "text/plain": [
       "6"
      ]
     },
     "execution_count": 25,
     "metadata": {},
     "output_type": "execute_result"
    }
   ],
   "source": [
    "48%7"
   ]
  },
  {
   "cell_type": "code",
   "execution_count": 26,
   "id": "74b97aef",
   "metadata": {},
   "outputs": [
    {
     "name": "stdout",
     "output_type": "stream",
     "text": [
      "24\n"
     ]
    }
   ],
   "source": [
    "A=9\n",
    "B=15\n",
    "print(A+B)"
   ]
  },
  {
   "cell_type": "code",
   "execution_count": 27,
   "id": "1cdef57e",
   "metadata": {},
   "outputs": [
    {
     "name": "stdout",
     "output_type": "stream",
     "text": [
      "9 + 15 = 24\n"
     ]
    }
   ],
   "source": [
    "A=9\n",
    "B=15\n",
    "print(A,'+', B, '=', A+B)"
   ]
  },
  {
   "cell_type": "code",
   "execution_count": 29,
   "id": "ce43d734",
   "metadata": {},
   "outputs": [
    {
     "name": "stdout",
     "output_type": "stream",
     "text": [
      "9 - 15 = -6\n"
     ]
    }
   ],
   "source": [
    "A=9\n",
    "B=15\n",
    "print(A,'-', B, '=', A-B)"
   ]
  },
  {
   "cell_type": "code",
   "execution_count": 30,
   "id": "974917ac",
   "metadata": {},
   "outputs": [
    {
     "name": "stdout",
     "output_type": "stream",
     "text": [
      "9 * 15 = 135\n"
     ]
    }
   ],
   "source": [
    "A=9\n",
    "B=15\n",
    "print(A,'*', B, '=', A*B)"
   ]
  },
  {
   "cell_type": "code",
   "execution_count": 31,
   "id": "98b16bb1",
   "metadata": {},
   "outputs": [
    {
     "name": "stdout",
     "output_type": "stream",
     "text": [
      "9 / 15 = 0.6\n"
     ]
    }
   ],
   "source": [
    "A=9\n",
    "B=15\n",
    "print(A,'/', B, '=', A/B)"
   ]
  },
  {
   "cell_type": "code",
   "execution_count": 32,
   "id": "e2d29dad",
   "metadata": {},
   "outputs": [
    {
     "name": "stdout",
     "output_type": "stream",
     "text": [
      "9 // 15 = 0\n"
     ]
    }
   ],
   "source": [
    "A=9\n",
    "B=15\n",
    "print(A,'//', B, '=', A//B)"
   ]
  },
  {
   "cell_type": "code",
   "execution_count": 35,
   "id": "6ea27a80",
   "metadata": {},
   "outputs": [
    {
     "name": "stdout",
     "output_type": "stream",
     "text": [
      "9 mod 15 = 9\n"
     ]
    }
   ],
   "source": [
    "A=9\n",
    "B=15\n",
    "print(A,'mod', B, '=', A%B)"
   ]
  },
  {
   "cell_type": "code",
   "execution_count": 34,
   "id": "c95a7423",
   "metadata": {},
   "outputs": [
    {
     "name": "stdout",
     "output_type": "stream",
     "text": [
      "9 ** 15 = 205891132094649\n"
     ]
    }
   ],
   "source": [
    "A=9\n",
    "B=15\n",
    "print(A,'**', B, '=', A**B)"
   ]
  },
  {
   "cell_type": "code",
   "execution_count": 36,
   "id": "b7150d81",
   "metadata": {},
   "outputs": [
    {
     "data": {
      "text/plain": [
       "13"
      ]
     },
     "execution_count": 36,
     "metadata": {},
     "output_type": "execute_result"
    }
   ],
   "source": [
    "3+5*2"
   ]
  },
  {
   "cell_type": "code",
   "execution_count": 37,
   "id": "ed534325",
   "metadata": {},
   "outputs": [
    {
     "data": {
      "text/plain": [
       "14"
      ]
     },
     "execution_count": 37,
     "metadata": {},
     "output_type": "execute_result"
    }
   ],
   "source": [
    "2+3*2**2"
   ]
  },
  {
   "cell_type": "code",
   "execution_count": 38,
   "id": "891fa0b5",
   "metadata": {},
   "outputs": [
    {
     "data": {
      "text/plain": [
       "5.5"
      ]
     },
     "execution_count": 38,
     "metadata": {},
     "output_type": "execute_result"
    }
   ],
   "source": [
    "3+5*2/4"
   ]
  },
  {
   "cell_type": "code",
   "execution_count": 39,
   "id": "cb098858",
   "metadata": {},
   "outputs": [
    {
     "data": {
      "text/plain": [
       "12"
      ]
     },
     "execution_count": 39,
     "metadata": {},
     "output_type": "execute_result"
    }
   ],
   "source": [
    "(5-3)*5+2"
   ]
  },
  {
   "cell_type": "code",
   "execution_count": 46,
   "id": "fa3e74ab",
   "metadata": {},
   "outputs": [
    {
     "name": "stdout",
     "output_type": "stream",
     "text": [
      "-4.6\n"
     ]
    }
   ],
   "source": [
    " X=(2**2+3/5)/(3**2-2*5)\n",
    "print(X)"
   ]
  },
  {
   "cell_type": "code",
   "execution_count": 50,
   "id": "bc2c271d",
   "metadata": {},
   "outputs": [
    {
     "name": "stdout",
     "output_type": "stream",
     "text": [
      "10\n"
     ]
    }
   ],
   "source": [
    "Cep=0\n",
    "Cep=Cep+10\n",
    "print(Cep)\n"
   ]
  },
  {
   "cell_type": "code",
   "execution_count": 51,
   "id": "0a9de57e",
   "metadata": {},
   "outputs": [
    {
     "name": "stdout",
     "output_type": "stream",
     "text": [
      "20\n"
     ]
    }
   ],
   "source": [
    "Cep+=10\n",
    "print(Cep)"
   ]
  },
  {
   "cell_type": "code",
   "execution_count": 52,
   "id": "9e3854e9",
   "metadata": {},
   "outputs": [
    {
     "name": "stdout",
     "output_type": "stream",
     "text": [
      "10\n"
     ]
    }
   ],
   "source": [
    "Cep-=10\n",
    "print(Cep)"
   ]
  },
  {
   "cell_type": "code",
   "execution_count": 53,
   "id": "a65c2a43",
   "metadata": {},
   "outputs": [
    {
     "name": "stdout",
     "output_type": "stream",
     "text": [
      "1.0\n"
     ]
    }
   ],
   "source": [
    "Cep/=10\n",
    "print(Cep)"
   ]
  },
  {
   "cell_type": "code",
   "execution_count": 1,
   "id": "3c39f209",
   "metadata": {},
   "outputs": [
    {
     "ename": "NameError",
     "evalue": "name 'i' is not defined",
     "output_type": "error",
     "traceback": [
      "\u001b[1;31m---------------------------------------------------------------------------\u001b[0m",
      "\u001b[1;31mNameError\u001b[0m                                 Traceback (most recent call last)",
      "Cell \u001b[1;32mIn[1], line 1\u001b[0m\n\u001b[1;32m----> 1\u001b[0m i\u001b[38;5;241m=\u001b[39mi\u001b[38;5;241m+\u001b[39mj\u001b[38;5;241m+\u001b[39m\u001b[38;5;241m8\u001b[39m\n",
      "\u001b[1;31mNameError\u001b[0m: name 'i' is not defined"
     ]
    }
   ],
   "source": [
    "i=i+j+8"
   ]
  },
  {
   "cell_type": "code",
   "execution_count": 15,
   "id": "10a8b26c",
   "metadata": {},
   "outputs": [
    {
     "name": "stdout",
     "output_type": "stream",
     "text": [
      "20\n"
     ]
    }
   ],
   "source": [
    "i=5\n",
    "j=7\n",
    "i+=j+8\n",
    "print(i)"
   ]
  },
  {
   "cell_type": "code",
   "execution_count": 16,
   "id": "07db9abf",
   "metadata": {},
   "outputs": [
    {
     "name": "stdout",
     "output_type": "stream",
     "text": [
      "145\n"
     ]
    }
   ],
   "source": [
    "A=67\n",
    "B=78\n",
    "A+=B\n",
    "print(A)"
   ]
  },
  {
   "cell_type": "code",
   "execution_count": 17,
   "id": "6626b91b",
   "metadata": {},
   "outputs": [
    {
     "name": "stdout",
     "output_type": "stream",
     "text": [
      "10.0\n"
     ]
    }
   ],
   "source": [
    "x=50\n",
    "y=80\n",
    "x-=y/2\n",
    "print(x)"
   ]
  },
  {
   "cell_type": "code",
   "execution_count": 24,
   "id": "01beeb36",
   "metadata": {},
   "outputs": [
    {
     "data": {
      "text/plain": [
       "int"
      ]
     },
     "execution_count": 24,
     "metadata": {},
     "output_type": "execute_result"
    }
   ],
   "source": [
    "A=3\n",
    "B=4.5\n",
    "type(A)"
   ]
  },
  {
   "cell_type": "code",
   "execution_count": 25,
   "id": "4c2c28a0",
   "metadata": {},
   "outputs": [
    {
     "data": {
      "text/plain": [
       "float"
      ]
     },
     "execution_count": 25,
     "metadata": {},
     "output_type": "execute_result"
    }
   ],
   "source": [
    "A=3\n",
    "B=4.5\n",
    "type(B)"
   ]
  },
  {
   "cell_type": "code",
   "execution_count": 26,
   "id": "0690c5b5",
   "metadata": {},
   "outputs": [
    {
     "name": "stdout",
     "output_type": "stream",
     "text": [
      "True\n"
     ]
    }
   ],
   "source": [
    "A=(4>3)\n",
    "print(A)"
   ]
  },
  {
   "cell_type": "code",
   "execution_count": 27,
   "id": "4a3318b6",
   "metadata": {},
   "outputs": [
    {
     "name": "stdout",
     "output_type": "stream",
     "text": [
      "False\n"
     ]
    }
   ],
   "source": [
    "A=(4<3)\n",
    "print(A)"
   ]
  },
  {
   "cell_type": "code",
   "execution_count": 28,
   "id": "7d324dc5",
   "metadata": {},
   "outputs": [
    {
     "ename": "SyntaxError",
     "evalue": "expression cannot contain assignment, perhaps you meant \"==\"? (1363550805.py, line 1)",
     "output_type": "error",
     "traceback": [
      "\u001b[1;36m  Cell \u001b[1;32mIn[28], line 1\u001b[1;36m\u001b[0m\n\u001b[1;33m    print(3=3)\u001b[0m\n\u001b[1;37m          ^\u001b[0m\n\u001b[1;31mSyntaxError\u001b[0m\u001b[1;31m:\u001b[0m expression cannot contain assignment, perhaps you meant \"==\"?\n"
     ]
    }
   ],
   "source": [
    "print(3=3)"
   ]
  },
  {
   "cell_type": "code",
   "execution_count": 29,
   "id": "8bd77a45",
   "metadata": {},
   "outputs": [
    {
     "name": "stdout",
     "output_type": "stream",
     "text": [
      "True\n"
     ]
    }
   ],
   "source": [
    "print(3==3)"
   ]
  },
  {
   "cell_type": "code",
   "execution_count": null,
   "id": "7d92f186",
   "metadata": {},
   "outputs": [],
   "source": [
    "\"\"\"\n",
    "X,Y,Z isimindeki 3 farklı değişkene 'BTK' ataması yapınız?\n",
    "değişken tipini hangi komutla ögrenilir?\n",
    "\"\"\""
   ]
  },
  {
   "cell_type": "code",
   "execution_count": 31,
   "id": "a430d57f",
   "metadata": {},
   "outputs": [
    {
     "data": {
      "text/plain": [
       "str"
      ]
     },
     "execution_count": 31,
     "metadata": {},
     "output_type": "execute_result"
    }
   ],
   "source": [
    "X=Y=Z= 'BTK'\n",
    "type(X)"
   ]
  },
  {
   "cell_type": "code",
   "execution_count": null,
   "id": "9e14c7f9",
   "metadata": {},
   "outputs": [],
   "source": [
    "i=0\n",
    "j=0\n",
    "i=i+j\n",
    "bu kodu daha kısa yaz"
   ]
  },
  {
   "cell_type": "code",
   "execution_count": 32,
   "id": "29ecf086",
   "metadata": {},
   "outputs": [
    {
     "name": "stdout",
     "output_type": "stream",
     "text": [
      "0\n"
     ]
    }
   ],
   "source": [
    "i=0\n",
    "j=0\n",
    "i+=j\n",
    "print(i)"
   ]
  },
  {
   "cell_type": "code",
   "execution_count": 33,
   "id": "070cb5d4",
   "metadata": {},
   "outputs": [
    {
     "name": "stdout",
     "output_type": "stream",
     "text": [
      "5\n"
     ]
    }
   ],
   "source": [
    "B=0\n",
    "C=0\n",
    "C=5\n",
    "B,C=C,B\n",
    "print(B)"
   ]
  },
  {
   "cell_type": "code",
   "execution_count": 34,
   "id": "db23f910",
   "metadata": {},
   "outputs": [
    {
     "name": "stdout",
     "output_type": "stream",
     "text": [
      "13.25\n"
     ]
    }
   ],
   "source": [
    "t=20+15-10\n",
    "x=t/4+7\n",
    "print(x)"
   ]
  },
  {
   "cell_type": "code",
   "execution_count": 35,
   "id": "d1539ad6",
   "metadata": {},
   "outputs": [
    {
     "data": {
      "text/plain": [
       "['False',\n",
       " 'None',\n",
       " 'True',\n",
       " 'and',\n",
       " 'as',\n",
       " 'assert',\n",
       " 'async',\n",
       " 'await',\n",
       " 'break',\n",
       " 'class',\n",
       " 'continue',\n",
       " 'def',\n",
       " 'del',\n",
       " 'elif',\n",
       " 'else',\n",
       " 'except',\n",
       " 'finally',\n",
       " 'for',\n",
       " 'from',\n",
       " 'global',\n",
       " 'if',\n",
       " 'import',\n",
       " 'in',\n",
       " 'is',\n",
       " 'lambda',\n",
       " 'nonlocal',\n",
       " 'not',\n",
       " 'or',\n",
       " 'pass',\n",
       " 'raise',\n",
       " 'return',\n",
       " 'try',\n",
       " 'while',\n",
       " 'with',\n",
       " 'yield']"
      ]
     },
     "execution_count": 35,
     "metadata": {},
     "output_type": "execute_result"
    }
   ],
   "source": [
    "import keyword\n",
    "keyword.kwlist"
   ]
  },
  {
   "cell_type": "code",
   "execution_count": 38,
   "id": "3245b762",
   "metadata": {},
   "outputs": [
    {
     "name": "stdout",
     "output_type": "stream",
     "text": [
      "405\n"
     ]
    },
    {
     "data": {
      "text/plain": [
       "str"
      ]
     },
     "execution_count": 38,
     "metadata": {},
     "output_type": "execute_result"
    }
   ],
   "source": [
    "B=40\n",
    "C=str(B)+'5'\n",
    "print(C)\n",
    "type(C) # C değişkenini veri tipini ögrenmek için"
   ]
  },
  {
   "cell_type": "code",
   "execution_count": null,
   "id": "622473ea",
   "metadata": {},
   "outputs": [],
   "source": [
    "\"\"\"\"\n",
    "Daire Alanı: πrkare\n",
    "Daire Çevresi:2πr\n",
    "*Yarı çapı verilen dairenin alan ve çevrresini hesaplayınız (r:3.14)\n",
    "\"\"\"\"\n"
   ]
  },
  {
   "cell_type": "code",
   "execution_count": null,
   "id": "c642c5df",
   "metadata": {},
   "outputs": [],
   "source": []
  }
 ],
 "metadata": {
  "kernelspec": {
   "display_name": "Python 3 (ipykernel)",
   "language": "python",
   "name": "python3"
  },
  "language_info": {
   "codemirror_mode": {
    "name": "ipython",
    "version": 3
   },
   "file_extension": ".py",
   "mimetype": "text/x-python",
   "name": "python",
   "nbconvert_exporter": "python",
   "pygments_lexer": "ipython3",
   "version": "3.11.5"
  }
 },
 "nbformat": 4,
 "nbformat_minor": 5
}
